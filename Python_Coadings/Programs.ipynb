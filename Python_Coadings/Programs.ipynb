{
 "cells": [
  {
   "cell_type": "markdown",
   "id": "a0bf327f",
   "metadata": {},
   "source": [
    "# Simple codes"
   ]
  },
  {
   "cell_type": "code",
   "execution_count": 5,
   "id": "5bc148af",
   "metadata": {},
   "outputs": [
    {
     "name": "stdout",
     "output_type": "stream",
     "text": [
      "15\n",
      "7\n",
      "14\n",
      "[7, 8]\n"
     ]
    }
   ],
   "source": [
    "from functools import reduce\n",
    "import re\n",
    "li = [1, 2, 3, 4, 5]\n",
    "s = reduce((lambda a, b: a + b), li)\n",
    "print(s)\n",
    "\n",
    "st = \"Hello vamshllllli\"\n",
    "f = re.findall(\"l\", st)\n",
    "print(len(f))\n",
    "g = \"78\"\n",
    "a = max(g)\n",
    "b = max(str(ord(\"A\")))\n",
    "print(int(a)+int(b))\n",
    "li = []\n",
    "for i in g:\n",
    "    li.append(int(i))\n",
    "print(li)"
   ]
  },
  {
   "cell_type": "markdown",
   "id": "8511caa8",
   "metadata": {},
   "source": [
    "# File Operations"
   ]
  },
  {
   "cell_type": "code",
   "execution_count": 2,
   "id": "19631b44",
   "metadata": {},
   "outputs": [
    {
     "name": "stdout",
     "output_type": "stream",
     "text": [
      "Hello Vamshi Krishna\n",
      "    How are you man\n",
      "    What's upp\n",
      "['Hello Vamshi Krishna', 'How are you man', \"What's upp\"]\n",
      "True\n"
     ]
    }
   ],
   "source": [
    "with open(\"t1.txt\", 'w') as f:\n",
    "    f.write(\"\"\"Hello Vamshi Krishna\n",
    "    How are you man\n",
    "    What's upp\"\"\")\n",
    "f = open(\"t1.txt\", 'r')\n",
    "print(f.read())\n",
    "f.close()\n",
    "li = []\n",
    "with open(\"t1.txt\", 'r') as f:\n",
    "    r = f.readlines() # return in list\n",
    "    for i in r:\n",
    "        li.append(i.strip())\n",
    "f.close()\n",
    "print(li)\n",
    "a = \"Hello55\"\n",
    "print(a.isalnum())"
   ]
  },
  {
   "cell_type": "markdown",
   "id": "96881f91",
   "metadata": {},
   "source": [
    "# Word Count"
   ]
  },
  {
   "cell_type": "code",
   "execution_count": 24,
   "id": "23a74d53",
   "metadata": {},
   "outputs": [
    {
     "name": "stdout",
     "output_type": "stream",
     "text": [
      "kalyan 1\n",
      "vamshi 2\n",
      "krishna 3\n",
      "smart 1\n",
      "2\n",
      "vamshi 2\n",
      "krishna 3\n",
      "kalyan 1\n",
      "smart 1\n",
      "vamshikrishnakalyansmart\n",
      "['kalyan', 'krishna', 'smart', 'vamshi']\n"
     ]
    }
   ],
   "source": [
    "string = \"vamshi krishna vamshi kalyan smart krishna krishna\"\n",
    "li = string.split(' ')\n",
    "s = list(set(li))\n",
    "for i in s:\n",
    "    print(i, li.count(i))\n",
    "print(li.count(\"vamshi\"))\n",
    "s = \"\"\n",
    "for i in li:\n",
    "    count = 0\n",
    "    if i not in s:\n",
    "        for j in li:\n",
    "            if i == j:\n",
    "                count += 1\n",
    "        s += i\n",
    "        print(i, count)\n",
    "print(s)\n",
    "l = sorted(set(li), reverse = False)\n",
    "print(l)"
   ]
  },
  {
   "cell_type": "markdown",
   "id": "b9d80c22",
   "metadata": {},
   "source": [
    "# Remove name from email"
   ]
  },
  {
   "cell_type": "code",
   "execution_count": 27,
   "id": "1378f84d",
   "metadata": {},
   "outputs": [
    {
     "name": "stdout",
     "output_type": "stream",
     "text": [
      "['smartvamshikalyan17@gmail.com', 'vamshi@gmail.com', 'krishna@yahoo.com', 'smart@gmail.com']\n",
      "smartvamshikalyan17\n",
      "vamshi\n",
      "krishna\n",
      "smart\n"
     ]
    }
   ],
   "source": [
    "import re\n",
    "mail = \"smartvamshikalyan17@gmail.com,vamshi@gmail.com krishna@yahoo.com:smart@gmail.com\"\n",
    "li = re.split(',|:| ', mail)\n",
    "print(li)\n",
    "\n",
    "for i in li:\n",
    "    string = \"\"\n",
    "    for j in i:\n",
    "        if j == '@':\n",
    "            break\n",
    "        string += j\n",
    "    print(string.strip())\n"
   ]
  },
  {
   "cell_type": "code",
   "execution_count": 25,
   "id": "9642ae20",
   "metadata": {},
   "outputs": [
    {
     "name": "stdout",
     "output_type": "stream",
     "text": [
      "The original string is : GeeksforGeeks, is_an-awesome ! website\n",
      "The list after performing split functionality : ['GeeksforGeeks', 'is', 'an', 'awesome ', ' website']\n"
     ]
    }
   ],
   "source": [
    "import re\n",
    " \n",
    "# initializing string\n",
    "data = \"GeeksforGeeks, is_an-awesome ! website\"\n",
    " \n",
    "# printing original string\n",
    "print(\"The original string is : \" + data)\n",
    " \n",
    "# Using re.split()\n",
    "# Splitting characters in String\n",
    "res = re.split(', |_|-|!', data)\n",
    " \n",
    "# printing result\n",
    "print(\"The list after performing split functionality : \" + str(res))"
   ]
  },
  {
   "cell_type": "code",
   "execution_count": 38,
   "id": "089dbbb0",
   "metadata": {},
   "outputs": [
    {
     "name": "stdout",
     "output_type": "stream",
     "text": [
      "['GeeksforGeeks', 'is', 'an', 'awesome ', ' app ', ' too']\n",
      "['GeeksforGeeks', 'is', 'an', 'awesome ', ' app', 'too']\n"
     ]
    }
   ],
   "source": [
    "import re\n",
    "newData1 = \"GeeksforGeeks, is_an-awesome ! app + too\"\n",
    " \n",
    "# To split \"+\" with one espace before and after \"+\" symbol and use backslash\n",
    "print(re.split(', |_|-|!|\\+', newData1))\n",
    " \n",
    "newData2 = \"GeeksforGeeks, is_an-awesome ! app+too\"\n",
    " \n",
    "# To split \"+\" without one espace before and after \"+\" symbol and  use backslash\n",
    "print(re.split(', |_|-|!|\\+', newData2))"
   ]
  },
  {
   "cell_type": "code",
   "execution_count": 37,
   "id": "3266e508",
   "metadata": {},
   "outputs": [
    {
     "name": "stdout",
     "output_type": "stream",
     "text": [
      "[21, 15, 10, 6, 3, 1]\n",
      "[7, 13, 18, 22, 25, 27]\n",
      "[7, 13, 10, 6, 3, 1]\n",
      "13\n"
     ]
    }
   ],
   "source": [
    "li = [1, 2, 3, 4, 5, 6, 7]\n",
    "l = []\n",
    "for i in range(len(li)-1, 0, -1):\n",
    "    l.append(sum(li[0:i]))\n",
    "print(l)\n",
    "r = []\n",
    "li.sort(reverse = True)\n",
    "for i in range(1, len(li)):\n",
    "    r.append(sum(li[0:i]))\n",
    "print(r)\n",
    "mx = []\n",
    "for i in range(len(l)):\n",
    "    mx.append(min(l[i], r[i]))\n",
    "print(mx)\n",
    "print(max(mx))"
   ]
  },
  {
   "cell_type": "code",
   "execution_count": 134,
   "id": "d8943537",
   "metadata": {},
   "outputs": [
    {
     "name": "stdout",
     "output_type": "stream",
     "text": [
      "[[1, 2, 3, 5, -6, 4], [10]]\n",
      "1\n"
     ]
    }
   ],
   "source": [
    "# li = [1, 2, 0, -3, -4, 2, 0, -3, 4, 5, 0, 3, 4, -1]\n",
    "li = [1, 2, 3, 5, -6, 4, 0, 10]\n",
    "li2 = []\n",
    "count = 0\n",
    "b = 0\n",
    "c = 0\n",
    "l = []\n",
    "i = 0\n",
    "if 0 in li:\n",
    "    while i < len(li):\n",
    "        if li[i] == 0:\n",
    "            li2.append(l)\n",
    "            l = []\n",
    "            b += 1\n",
    "            c = 0\n",
    "            i += 1\n",
    "            continue\n",
    "        if i == len(li)-1:\n",
    "            l.append(li[i])\n",
    "            li2.append(l)\n",
    "            break\n",
    "        l.append(li[i])\n",
    "        i += 1\n",
    "else:\n",
    "    for i in range(len(li)):\n",
    "        if li[i] < 0:\n",
    "            count += 1\n",
    "    if count%2 == 0:\n",
    "        print(len(li))\n",
    "    else:\n",
    "        print(count)\n",
    "print(li2)\n",
    "if len(li2) > 0:\n",
    "    count = 0\n",
    "    for i in li2:\n",
    "        if len(i) > 1:\n",
    "            for j in i:\n",
    "                if j < 0:\n",
    "                    count += 1\n",
    "                    \n",
    "            if count%2 == 0:\n",
    "                print(len(i))\n",
    "            else:\n",
    "                i.sort()\n",
    "                print(len(i[1:count+1]))"
   ]
  },
  {
   "cell_type": "markdown",
   "id": "818f751f",
   "metadata": {},
   "source": [
    "# Kandanes Algorithm\n",
    "- Maximum sum of continuous subrray"
   ]
  },
  {
   "cell_type": "code",
   "execution_count": 4,
   "id": "632ac46b",
   "metadata": {},
   "outputs": [
    {
     "name": "stdout",
     "output_type": "stream",
     "text": [
      "sum -1\n",
      "sum 1\n",
      "max =  1\n",
      "sum -2\n",
      "sum 4\n",
      "max =  4\n",
      "sum 3\n",
      "sum 5\n",
      "max =  5\n",
      "sum 6\n",
      "max =  6\n",
      "sum 1\n",
      "sum 5\n"
     ]
    }
   ],
   "source": [
    "a = [-1, 1, -3, 4, -1, 2, 1, -5, 4]\n",
    "sum = 0\n",
    "mx = a[0]\n",
    "for i in a:\n",
    "    if sum < 0:\n",
    "        sum = 0\n",
    "    sum += i\n",
    "    print(\"sum\", sum)\n",
    "    if sum > mx:\n",
    "        mx = sum\n",
    "        print(\"max = \", mx)"
   ]
  },
  {
   "cell_type": "code",
   "execution_count": 21,
   "id": "c59be433",
   "metadata": {},
   "outputs": [
    {
     "name": "stdout",
     "output_type": "stream",
     "text": [
      "6\n"
     ]
    }
   ],
   "source": [
    "print(mx)"
   ]
  },
  {
   "cell_type": "code",
   "execution_count": null,
   "id": "66556808",
   "metadata": {},
   "outputs": [],
   "source": [
    "class Vamshi:\n",
    "    def __init__(self, root, left, right):\n",
    "        self.root = root\n",
    "        self.left = None\n",
    "        self.right = None\n",
    "v = Vamshi(1)\n"
   ]
  },
  {
   "cell_type": "code",
   "execution_count": 3,
   "id": "9af755e6",
   "metadata": {},
   "outputs": [
    {
     "name": "stdout",
     "output_type": "stream",
     "text": [
      "Preorder traversal of binary tree is\n",
      "1\n",
      "2\n",
      "4\n",
      "5\n",
      "3\n"
     ]
    }
   ],
   "source": [
    "class Node:\n",
    "    def __init__(self, key):\n",
    "        self.left = None\n",
    "        self.right = None\n",
    "        self.val = key\n",
    " \n",
    " \n",
    "# A function to do preorder tree traversal\n",
    "def printPreorder(root):\n",
    " \n",
    "    if root:\n",
    " \n",
    "        # First print the data of node\n",
    "        print(root.val)\n",
    " \n",
    "        # Then recur on left child\n",
    "        printPreorder(root.left)\n",
    " \n",
    "        # Finally recur on right child\n",
    "        printPreorder(root.right)\n",
    " \n",
    " \n",
    "# Driver code\n",
    "root = Node(1)\n",
    "root.left = Node(2)\n",
    "root.right = Node(3)\n",
    "root.left.left = Node(4)\n",
    "root.left.right = Node(5)\n",
    "\n",
    "# Function call\n",
    "print(\"Preorder traversal of binary tree is\")\n",
    "printPreorder(root)\n"
   ]
  },
  {
   "cell_type": "code",
   "execution_count": 11,
   "id": "b06ff4fd",
   "metadata": {},
   "outputs": [
    {
     "name": "stdout",
     "output_type": "stream",
     "text": [
      "1-2-4-5-3-6-7-8-\n"
     ]
    }
   ],
   "source": [
    "class Node(object):\n",
    "    def __init__(self, value):\n",
    "        self.value = value\n",
    "        self.left = None\n",
    "        self.right = None\n",
    "class btree(object):\n",
    "    def __init__(self, root):\n",
    "        self.root = Node(root)\n",
    "    \n",
    "    def print_traversal(self, t):\n",
    "        if t == 'preorder':\n",
    "            return self.preorder_print(tree.root, \"\")\n",
    "        \n",
    "    def preorder_print(self, start, traversal):\n",
    "        if start:\n",
    "            traversal += (str(start.value) + \"-\")\n",
    "            traversal = self.preorder_print(start.left, traversal)\n",
    "            traversal = self.preorder_print(start.right, traversal)\n",
    "        return traversal\n",
    "tree = btree(1)\n",
    "tree.root.left = Node(2)\n",
    "tree.root.right = Node(3)\n",
    "tree.root.left.left = Node(4)\n",
    "tree.root.left.right = Node(5)\n",
    "tree.root.right.left = Node(6)\n",
    "tree.root.right.right = Node(7)\n",
    "tree.root.right.right.right = Node(8)\n",
    "print(tree.print_traversal(\"preorder\"))"
   ]
  },
  {
   "cell_type": "code",
   "execution_count": null,
   "id": "2210104e",
   "metadata": {},
   "outputs": [],
   "source": []
  }
 ],
 "metadata": {
  "kernelspec": {
   "display_name": "Python 3 (ipykernel)",
   "language": "python",
   "name": "python3"
  },
  "language_info": {
   "codemirror_mode": {
    "name": "ipython",
    "version": 3
   },
   "file_extension": ".py",
   "mimetype": "text/x-python",
   "name": "python",
   "nbconvert_exporter": "python",
   "pygments_lexer": "ipython3",
   "version": "3.9.11"
  }
 },
 "nbformat": 4,
 "nbformat_minor": 5
}
