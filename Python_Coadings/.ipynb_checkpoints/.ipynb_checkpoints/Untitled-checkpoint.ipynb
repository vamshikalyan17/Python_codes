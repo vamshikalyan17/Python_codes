{
 "cells": [
  {
   "cell_type": "code",
   "execution_count": 1,
   "id": "e5090fea",
   "metadata": {},
   "outputs": [
    {
     "name": "stdout",
     "output_type": "stream",
     "text": [
      "Hello World\n"
     ]
    }
   ],
   "source": [
    "print(\"Hello World\")"
   ]
  },
  {
   "cell_type": "code",
   "execution_count": 1,
   "id": "df968bcd",
   "metadata": {},
   "outputs": [
    {
     "name": "stdout",
     "output_type": "stream",
     "text": [
      "\n",
      "*\n",
      "**\n",
      "***\n",
      "****\n",
      "*****\n",
      "******\n",
      "*******\n",
      "********\n",
      "*********\n"
     ]
    }
   ],
   "source": [
    "for i in range(10):\n",
    "    print(\"*\"*i)"
   ]
  },
  {
   "cell_type": "code",
   "execution_count": 10,
   "id": "9216a8a8",
   "metadata": {},
   "outputs": [
    {
     "name": "stdout",
     "output_type": "stream",
     "text": [
      "1\n"
     ]
    }
   ],
   "source": [
    "def fib(f):\n",
    "    if f == 1:\n",
    "        return 1\n",
    "    elif f == 0:\n",
    "        return 0\n",
    "    else:\n",
    "        return fib(f-2) + fib(f-1)\n",
    "print(fib(2))"
   ]
  },
  {
   "cell_type": "code",
   "execution_count": 18,
   "id": "dfc64f29",
   "metadata": {},
   "outputs": [
    {
     "name": "stdout",
     "output_type": "stream",
     "text": [
      "5\n"
     ]
    }
   ],
   "source": [
    "li = [1, 2, 3, 4, 5, \"a\", 5, \"b\"]\n",
    "\n",
    "print(li.index(\"a\"))"
   ]
  },
  {
   "cell_type": "code",
   "execution_count": 10,
   "id": "04fedc8e",
   "metadata": {},
   "outputs": [
    {
     "name": "stdout",
     "output_type": "stream",
     "text": [
      "5\n",
      "4\n",
      "3\n",
      "2\n",
      "1\n"
     ]
    }
   ],
   "source": [
    "\n",
    "for i in range(len(li)-1, -1, -1):\n",
    "    print(li[i])\n",
    "# print(len(li))"
   ]
  },
  {
   "cell_type": "code",
   "execution_count": null,
   "id": "166fa544",
   "metadata": {},
   "outputs": [],
   "source": [
    "for (i=len(li)-1;i>-1;i-1){\n",
    "    print(li[i])\n",
    "}"
   ]
  }
 ],
 "metadata": {
  "kernelspec": {
   "display_name": "Python 3 (ipykernel)",
   "language": "python",
   "name": "python3"
  },
  "language_info": {
   "codemirror_mode": {
    "name": "ipython",
    "version": 3
   },
   "file_extension": ".py",
   "mimetype": "text/x-python",
   "name": "python",
   "nbconvert_exporter": "python",
   "pygments_lexer": "ipython3",
   "version": "3.9.11"
  }
 },
 "nbformat": 4,
 "nbformat_minor": 5
}
